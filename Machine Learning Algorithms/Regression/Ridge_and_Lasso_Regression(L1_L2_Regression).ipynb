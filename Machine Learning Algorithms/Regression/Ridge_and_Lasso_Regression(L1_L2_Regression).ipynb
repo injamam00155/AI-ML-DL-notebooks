{
  "nbformat": 4,
  "nbformat_minor": 0,
  "metadata": {
    "colab": {
      "provenance": [],
      "authorship_tag": "ABX9TyONNWGt036PBpHmcBh1RBnO",
      "include_colab_link": true
    },
    "kernelspec": {
      "name": "python3",
      "display_name": "Python 3"
    },
    "language_info": {
      "name": "python"
    }
  },
  "cells": [
    {
      "cell_type": "markdown",
      "metadata": {
        "id": "view-in-github",
        "colab_type": "text"
      },
      "source": [
        "<a href=\"https://colab.research.google.com/github/injamam00155/AI-ML-DL-notebooks/blob/main/Machine%20Learning%20Algorithms/Regression/Ridge_and_Lasso_Regression(L1_L2_Regression).ipynb\" target=\"_parent\"><img src=\"https://colab.research.google.com/assets/colab-badge.svg\" alt=\"Open In Colab\"/></a>"
      ]
    },
    {
      "cell_type": "markdown",
      "source": [
        "Now, let’s see how to implement Ridge and Lasso Regression using Python. To implement these algorithms, I will use the diabetes data from scikit-learn. Here’s how to implement Ridge and Lasso Regression using Python:"
      ],
      "metadata": {
        "id": "nX3j1h8tS50v"
      }
    },
    {
      "cell_type": "code",
      "execution_count": 1,
      "metadata": {
        "colab": {
          "base_uri": "https://localhost:8080/"
        },
        "id": "DM2WWmoESekq",
        "outputId": "3cb4ea21-e71f-4606-d44c-fc45981c6d80"
      },
      "outputs": [
        {
          "output_type": "stream",
          "name": "stdout",
          "text": [
            "Ridge Regression MSE: 3077.41593882723\n",
            "Lasso Regression MSE: 3403.5757216070733\n"
          ]
        }
      ],
      "source": [
        "from sklearn import datasets\n",
        "from sklearn.linear_model import Ridge, Lasso\n",
        "from sklearn.model_selection import train_test_split\n",
        "from sklearn.metrics import mean_squared_error\n",
        "\n",
        "# Load the diabetes dataset\n",
        "diabetes = datasets.load_diabetes()\n",
        "X = diabetes.data\n",
        "y = diabetes.target\n",
        "\n",
        "# Split the data into training and testing sets\n",
        "X_train, X_test, y_train, y_test = train_test_split(X, y,\n",
        "                                                    test_size=0.2,\n",
        "                                                    random_state=42)\n",
        "\n",
        "# Ridge Regression Implementation\n",
        "ridge = Ridge(alpha=1.0)\n",
        "ridge.fit(X_train, y_train)\n",
        "\n",
        "# Lasso Regression Implementation\n",
        "lasso = Lasso(alpha=1.0)\n",
        "lasso.fit(X_train, y_train)\n",
        "\n",
        "# Make predictions\n",
        "y_pred_ridge = ridge.predict(X_test)\n",
        "y_pred_lasso = lasso.predict(X_test)\n",
        "\n",
        "# Evaluate the models\n",
        "mse_ridge = mean_squared_error(y_test, y_pred_ridge)\n",
        "mse_lasso = mean_squared_error(y_test, y_pred_lasso)\n",
        "\n",
        "print(\"Ridge Regression MSE:\", mse_ridge)\n",
        "print(\"Lasso Regression MSE:\", mse_lasso)"
      ]
    },
    {
      "cell_type": "markdown",
      "source": [
        "In this example, we imported the diabetes dataset, split it into training and testing sets, implemented Ridge and Lasso Regression models, made predictions, and evaluated the models using mean squared error.\n",
        "\n",
        "We used the alpha parameter in both algorithms. Alpha (λ) is the regularization strength parameter. It controls the amount of regularization applied to the model. Larger values of alpha result in stronger regularization.\n",
        "\n",
        "Here’s how we can visualize the results of both the Ridge and Lasso regression models that we trained above:"
      ],
      "metadata": {
        "id": "1LMKVKGtS9Fd"
      }
    },
    {
      "cell_type": "code",
      "source": [
        "import plotly.express as px\n",
        "import pandas as pd\n",
        "\n",
        "# Create a DataFrame to store the results\n",
        "results = pd.DataFrame({'Actual': y_test, 'Predicted_Ridge': y_pred_ridge,\n",
        "                        'Predicted_Lasso': y_pred_lasso})\n",
        "\n",
        "# visualize the actual vs. predicted values for Ridge Regression\n",
        "fig_ridge = px.scatter(results, x='Actual', y='Predicted_Ridge',\n",
        "                       title='Ridge Regression: Actual vs. Predicted',\n",
        "                       labels={'Actual': 'Actual Values',\n",
        "                               'Predicted_Ridge': 'Predicted Values'},\n",
        "                       trendline='ols')\n",
        "\n",
        "# visualize the actual vs. predicted values for Lasso Regression\n",
        "fig_lasso = px.scatter(results, x='Actual', y='Predicted_Lasso',\n",
        "                       title='Lasso Regression: Actual vs. Predicted',\n",
        "                       labels={'Actual': 'Actual Values',\n",
        "                               'Predicted_Lasso': 'Predicted Values'},\n",
        "                       trendline='ols')\n",
        "\n",
        "fig_ridge.show()\n",
        "fig_lasso.show()"
      ],
      "metadata": {
        "colab": {
          "base_uri": "https://localhost:8080/",
          "height": 1000
        },
        "id": "U9QzMe4bTCqY",
        "outputId": "234a02dc-e5cd-462e-c322-7453bdd132bd"
      },
      "execution_count": 2,
      "outputs": [
        {
          "output_type": "display_data",
          "data": {
            "text/html": [
              "<html>\n",
              "<head><meta charset=\"utf-8\" /></head>\n",
              "<body>\n",
              "    <div>            <script src=\"https://cdnjs.cloudflare.com/ajax/libs/mathjax/2.7.5/MathJax.js?config=TeX-AMS-MML_SVG\"></script><script type=\"text/javascript\">if (window.MathJax && window.MathJax.Hub && window.MathJax.Hub.Config) {window.MathJax.Hub.Config({SVG: {font: \"STIX-Web\"}});}</script>                <script type=\"text/javascript\">window.PlotlyConfig = {MathJaxConfig: 'local'};</script>\n",
              "        <script charset=\"utf-8\" src=\"https://cdn.plot.ly/plotly-2.24.1.min.js\"></script>                <div id=\"d5b03585-caaa-4e0c-a12c-d6862304699f\" class=\"plotly-graph-div\" style=\"height:525px; width:100%;\"></div>            <script type=\"text/javascript\">                                    window.PLOTLYENV=window.PLOTLYENV || {};                                    if (document.getElementById(\"d5b03585-caaa-4e0c-a12c-d6862304699f\")) {                    Plotly.newPlot(                        \"d5b03585-caaa-4e0c-a12c-d6862304699f\",                        [{\"hovertemplate\":\"Actual Values=%{x}\\u003cbr\\u003ePredicted Values=%{y}\\u003cextra\\u003e\\u003c\\u002fextra\\u003e\",\"legendgroup\":\"\",\"marker\":{\"color\":\"#636efa\",\"symbol\":\"circle\"},\"mode\":\"markers\",\"name\":\"\",\"orientation\":\"v\",\"showlegend\":false,\"x\":[219.0,70.0,202.0,230.0,111.0,84.0,242.0,272.0,94.0,96.0,94.0,252.0,99.0,297.0,135.0,67.0,295.0,264.0,170.0,275.0,310.0,64.0,128.0,232.0,129.0,118.0,263.0,77.0,48.0,107.0,140.0,113.0,90.0,164.0,180.0,233.0,42.0,84.0,172.0,63.0,48.0,108.0,156.0,168.0,90.0,52.0,200.0,87.0,90.0,258.0,136.0,158.0,69.0,72.0,171.0,95.0,72.0,151.0,168.0,60.0,122.0,52.0,187.0,102.0,214.0,248.0,181.0,110.0,140.0,202.0,101.0,222.0,281.0,61.0,89.0,91.0,186.0,220.0,237.0,233.0,68.0,190.0,96.0,72.0,153.0,98.0,37.0,63.0,184.0],\"xaxis\":\"x\",\"y\":[157.28546957818568,163.0077871992929,155.18015341329777,247.34826661035208,143.8661655378525,126.29572807507458,218.14685792960648,190.2076069403983,113.85217577404092,134.55978604675283,117.02118388441377,144.48558675479103,87.28819204501436,197.14093279174827,125.50901858029628,138.51500911510522,205.35970601567038,220.73709950249474,169.06166719122507,196.32660960109962,175.59408294851897,114.95369132812019,101.19431175857827,180.24089488891627,146.93487165914016,162.96966538325185,174.96110549692995,169.4822212431414,80.9995683078619,138.96441653412234,170.06464338961146,113.58144127036661,143.88931751800723,176.39120165034592,171.50662654851658,180.29787161302357,141.03684750681802,143.60519253777915,165.05321623688826,90.61274102745946,108.115386757582,129.73518900586762,153.90040577878153,164.58765418254586,166.0909499527852,94.58802391896717,102.54361131064564,114.45469887383385,89.45795469974996,147.1770846513894,139.7580173265011,91.12427125460707,135.90101798033464,123.02865659654042,175.74585939150427,144.21794878876017,121.37741666007916,181.9960827766013,123.1472869011076,90.5196784907883,178.64803582528478,172.74960766095722,140.23962167791694,131.6752441041126,136.7680497135116,181.02207584925225,172.35949369977135,159.56861815452638,114.44135648455968,146.58257372080274,169.11867933875428,189.22837346460102,217.3408407687781,144.48233424567402,104.45877993261843,162.59915299529032,190.76743946548217,179.43264044742054,163.1237440312603,181.84650279726415,124.96125376673196,127.43911563800128,86.19708212796115,95.13279121592456,125.47033829586987,106.37483831101144,91.81607547014453,89.255689230759,147.72396814459677],\"yaxis\":\"y\",\"type\":\"scatter\"},{\"hovertemplate\":\"\\u003cb\\u003eOLS trendline\\u003c\\u002fb\\u003e\\u003cbr\\u003ePredicted_Ridge = 0.33013 * Actual + 98.1877\\u003cbr\\u003eR\\u003csup\\u003e2\\u003c\\u002fsup\\u003e=0.452124\\u003cbr\\u003e\\u003cbr\\u003eActual Values=%{x}\\u003cbr\\u003ePredicted Values=%{y} \\u003cb\\u003e(trend)\\u003c\\u002fb\\u003e\\u003cextra\\u003e\\u003c\\u002fextra\\u003e\",\"legendgroup\":\"\",\"marker\":{\"color\":\"#636efa\",\"symbol\":\"circle\"},\"mode\":\"lines\",\"name\":\"\",\"showlegend\":false,\"x\":[37.0,42.0,48.0,48.0,52.0,52.0,60.0,61.0,63.0,63.0,64.0,67.0,68.0,69.0,70.0,72.0,72.0,72.0,77.0,84.0,84.0,87.0,89.0,90.0,90.0,90.0,91.0,94.0,94.0,95.0,96.0,96.0,98.0,99.0,101.0,102.0,107.0,108.0,110.0,111.0,113.0,118.0,122.0,128.0,129.0,135.0,136.0,140.0,140.0,151.0,153.0,156.0,158.0,164.0,168.0,168.0,170.0,171.0,172.0,180.0,181.0,184.0,186.0,187.0,190.0,200.0,202.0,202.0,214.0,219.0,220.0,222.0,230.0,232.0,233.0,233.0,237.0,242.0,248.0,252.0,258.0,263.0,264.0,272.0,275.0,281.0,295.0,297.0,310.0],\"xaxis\":\"x\",\"y\":[110.40255690142511,112.05320914762132,114.03399184305675,114.03399184305675,115.35451364001372,115.35451364001372,117.99555723392764,118.32568768316688,118.98594858164536,118.98594858164536,119.31607903088461,120.30647037860233,120.63660082784156,120.96673127708081,121.29686172632005,121.95712262479853,121.95712262479853,121.95712262479853,123.60777487099473,125.9186880156694,125.9186880156694,126.90907936338714,127.56934026186562,127.89947071110485,127.89947071110485,127.89947071110485,128.2296011603441,129.2199925080618,129.2199925080618,129.55012295730106,129.8802534065403,129.8802534065403,130.54051430501877,130.87064475425802,131.5309056527365,131.86103610197574,133.51168834817193,133.84181879741118,134.50207969588965,134.8322101451289,135.49247104360737,137.14312328980358,138.46364508676055,140.444427782196,140.7745582314352,142.75534092687064,143.0854713761099,144.40599317306686,144.40599317306686,148.0374281146985,148.69768901317698,149.6880803608947,150.34834125937317,152.32912395480864,153.6496457517656,153.6496457517656,154.30990665024407,154.64003709948332,154.97016754872254,157.61121114263648,157.9413415918757,158.93173293959342,159.59199383807191,159.92212428731116,160.91251563502888,164.2138201274213,164.87408102589976,164.87408102589976,168.83564641677066,170.48629866296685,170.8164291122061,171.47669001068456,174.11773360459847,174.77799450307697,175.1081249523162,175.1081249523162,176.42864674927318,178.07929899546937,180.0600816909048,181.38060348786178,183.3613861832972,185.01203842949343,185.34216887873265,187.98321247264658,188.9736038203643,190.95438651579974,195.5762128051491,196.23647370362758,200.5281695437377],\"yaxis\":\"y\",\"type\":\"scatter\"}],                        {\"template\":{\"data\":{\"histogram2dcontour\":[{\"type\":\"histogram2dcontour\",\"colorbar\":{\"outlinewidth\":0,\"ticks\":\"\"},\"colorscale\":[[0.0,\"#0d0887\"],[0.1111111111111111,\"#46039f\"],[0.2222222222222222,\"#7201a8\"],[0.3333333333333333,\"#9c179e\"],[0.4444444444444444,\"#bd3786\"],[0.5555555555555556,\"#d8576b\"],[0.6666666666666666,\"#ed7953\"],[0.7777777777777778,\"#fb9f3a\"],[0.8888888888888888,\"#fdca26\"],[1.0,\"#f0f921\"]]}],\"choropleth\":[{\"type\":\"choropleth\",\"colorbar\":{\"outlinewidth\":0,\"ticks\":\"\"}}],\"histogram2d\":[{\"type\":\"histogram2d\",\"colorbar\":{\"outlinewidth\":0,\"ticks\":\"\"},\"colorscale\":[[0.0,\"#0d0887\"],[0.1111111111111111,\"#46039f\"],[0.2222222222222222,\"#7201a8\"],[0.3333333333333333,\"#9c179e\"],[0.4444444444444444,\"#bd3786\"],[0.5555555555555556,\"#d8576b\"],[0.6666666666666666,\"#ed7953\"],[0.7777777777777778,\"#fb9f3a\"],[0.8888888888888888,\"#fdca26\"],[1.0,\"#f0f921\"]]}],\"heatmap\":[{\"type\":\"heatmap\",\"colorbar\":{\"outlinewidth\":0,\"ticks\":\"\"},\"colorscale\":[[0.0,\"#0d0887\"],[0.1111111111111111,\"#46039f\"],[0.2222222222222222,\"#7201a8\"],[0.3333333333333333,\"#9c179e\"],[0.4444444444444444,\"#bd3786\"],[0.5555555555555556,\"#d8576b\"],[0.6666666666666666,\"#ed7953\"],[0.7777777777777778,\"#fb9f3a\"],[0.8888888888888888,\"#fdca26\"],[1.0,\"#f0f921\"]]}],\"heatmapgl\":[{\"type\":\"heatmapgl\",\"colorbar\":{\"outlinewidth\":0,\"ticks\":\"\"},\"colorscale\":[[0.0,\"#0d0887\"],[0.1111111111111111,\"#46039f\"],[0.2222222222222222,\"#7201a8\"],[0.3333333333333333,\"#9c179e\"],[0.4444444444444444,\"#bd3786\"],[0.5555555555555556,\"#d8576b\"],[0.6666666666666666,\"#ed7953\"],[0.7777777777777778,\"#fb9f3a\"],[0.8888888888888888,\"#fdca26\"],[1.0,\"#f0f921\"]]}],\"contourcarpet\":[{\"type\":\"contourcarpet\",\"colorbar\":{\"outlinewidth\":0,\"ticks\":\"\"}}],\"contour\":[{\"type\":\"contour\",\"colorbar\":{\"outlinewidth\":0,\"ticks\":\"\"},\"colorscale\":[[0.0,\"#0d0887\"],[0.1111111111111111,\"#46039f\"],[0.2222222222222222,\"#7201a8\"],[0.3333333333333333,\"#9c179e\"],[0.4444444444444444,\"#bd3786\"],[0.5555555555555556,\"#d8576b\"],[0.6666666666666666,\"#ed7953\"],[0.7777777777777778,\"#fb9f3a\"],[0.8888888888888888,\"#fdca26\"],[1.0,\"#f0f921\"]]}],\"surface\":[{\"type\":\"surface\",\"colorbar\":{\"outlinewidth\":0,\"ticks\":\"\"},\"colorscale\":[[0.0,\"#0d0887\"],[0.1111111111111111,\"#46039f\"],[0.2222222222222222,\"#7201a8\"],[0.3333333333333333,\"#9c179e\"],[0.4444444444444444,\"#bd3786\"],[0.5555555555555556,\"#d8576b\"],[0.6666666666666666,\"#ed7953\"],[0.7777777777777778,\"#fb9f3a\"],[0.8888888888888888,\"#fdca26\"],[1.0,\"#f0f921\"]]}],\"mesh3d\":[{\"type\":\"mesh3d\",\"colorbar\":{\"outlinewidth\":0,\"ticks\":\"\"}}],\"scatter\":[{\"fillpattern\":{\"fillmode\":\"overlay\",\"size\":10,\"solidity\":0.2},\"type\":\"scatter\"}],\"parcoords\":[{\"type\":\"parcoords\",\"line\":{\"colorbar\":{\"outlinewidth\":0,\"ticks\":\"\"}}}],\"scatterpolargl\":[{\"type\":\"scatterpolargl\",\"marker\":{\"colorbar\":{\"outlinewidth\":0,\"ticks\":\"\"}}}],\"bar\":[{\"error_x\":{\"color\":\"#2a3f5f\"},\"error_y\":{\"color\":\"#2a3f5f\"},\"marker\":{\"line\":{\"color\":\"#E5ECF6\",\"width\":0.5},\"pattern\":{\"fillmode\":\"overlay\",\"size\":10,\"solidity\":0.2}},\"type\":\"bar\"}],\"scattergeo\":[{\"type\":\"scattergeo\",\"marker\":{\"colorbar\":{\"outlinewidth\":0,\"ticks\":\"\"}}}],\"scatterpolar\":[{\"type\":\"scatterpolar\",\"marker\":{\"colorbar\":{\"outlinewidth\":0,\"ticks\":\"\"}}}],\"histogram\":[{\"marker\":{\"pattern\":{\"fillmode\":\"overlay\",\"size\":10,\"solidity\":0.2}},\"type\":\"histogram\"}],\"scattergl\":[{\"type\":\"scattergl\",\"marker\":{\"colorbar\":{\"outlinewidth\":0,\"ticks\":\"\"}}}],\"scatter3d\":[{\"type\":\"scatter3d\",\"line\":{\"colorbar\":{\"outlinewidth\":0,\"ticks\":\"\"}},\"marker\":{\"colorbar\":{\"outlinewidth\":0,\"ticks\":\"\"}}}],\"scattermapbox\":[{\"type\":\"scattermapbox\",\"marker\":{\"colorbar\":{\"outlinewidth\":0,\"ticks\":\"\"}}}],\"scatterternary\":[{\"type\":\"scatterternary\",\"marker\":{\"colorbar\":{\"outlinewidth\":0,\"ticks\":\"\"}}}],\"scattercarpet\":[{\"type\":\"scattercarpet\",\"marker\":{\"colorbar\":{\"outlinewidth\":0,\"ticks\":\"\"}}}],\"carpet\":[{\"aaxis\":{\"endlinecolor\":\"#2a3f5f\",\"gridcolor\":\"white\",\"linecolor\":\"white\",\"minorgridcolor\":\"white\",\"startlinecolor\":\"#2a3f5f\"},\"baxis\":{\"endlinecolor\":\"#2a3f5f\",\"gridcolor\":\"white\",\"linecolor\":\"white\",\"minorgridcolor\":\"white\",\"startlinecolor\":\"#2a3f5f\"},\"type\":\"carpet\"}],\"table\":[{\"cells\":{\"fill\":{\"color\":\"#EBF0F8\"},\"line\":{\"color\":\"white\"}},\"header\":{\"fill\":{\"color\":\"#C8D4E3\"},\"line\":{\"color\":\"white\"}},\"type\":\"table\"}],\"barpolar\":[{\"marker\":{\"line\":{\"color\":\"#E5ECF6\",\"width\":0.5},\"pattern\":{\"fillmode\":\"overlay\",\"size\":10,\"solidity\":0.2}},\"type\":\"barpolar\"}],\"pie\":[{\"automargin\":true,\"type\":\"pie\"}]},\"layout\":{\"autotypenumbers\":\"strict\",\"colorway\":[\"#636efa\",\"#EF553B\",\"#00cc96\",\"#ab63fa\",\"#FFA15A\",\"#19d3f3\",\"#FF6692\",\"#B6E880\",\"#FF97FF\",\"#FECB52\"],\"font\":{\"color\":\"#2a3f5f\"},\"hovermode\":\"closest\",\"hoverlabel\":{\"align\":\"left\"},\"paper_bgcolor\":\"white\",\"plot_bgcolor\":\"#E5ECF6\",\"polar\":{\"bgcolor\":\"#E5ECF6\",\"angularaxis\":{\"gridcolor\":\"white\",\"linecolor\":\"white\",\"ticks\":\"\"},\"radialaxis\":{\"gridcolor\":\"white\",\"linecolor\":\"white\",\"ticks\":\"\"}},\"ternary\":{\"bgcolor\":\"#E5ECF6\",\"aaxis\":{\"gridcolor\":\"white\",\"linecolor\":\"white\",\"ticks\":\"\"},\"baxis\":{\"gridcolor\":\"white\",\"linecolor\":\"white\",\"ticks\":\"\"},\"caxis\":{\"gridcolor\":\"white\",\"linecolor\":\"white\",\"ticks\":\"\"}},\"coloraxis\":{\"colorbar\":{\"outlinewidth\":0,\"ticks\":\"\"}},\"colorscale\":{\"sequential\":[[0.0,\"#0d0887\"],[0.1111111111111111,\"#46039f\"],[0.2222222222222222,\"#7201a8\"],[0.3333333333333333,\"#9c179e\"],[0.4444444444444444,\"#bd3786\"],[0.5555555555555556,\"#d8576b\"],[0.6666666666666666,\"#ed7953\"],[0.7777777777777778,\"#fb9f3a\"],[0.8888888888888888,\"#fdca26\"],[1.0,\"#f0f921\"]],\"sequentialminus\":[[0.0,\"#0d0887\"],[0.1111111111111111,\"#46039f\"],[0.2222222222222222,\"#7201a8\"],[0.3333333333333333,\"#9c179e\"],[0.4444444444444444,\"#bd3786\"],[0.5555555555555556,\"#d8576b\"],[0.6666666666666666,\"#ed7953\"],[0.7777777777777778,\"#fb9f3a\"],[0.8888888888888888,\"#fdca26\"],[1.0,\"#f0f921\"]],\"diverging\":[[0,\"#8e0152\"],[0.1,\"#c51b7d\"],[0.2,\"#de77ae\"],[0.3,\"#f1b6da\"],[0.4,\"#fde0ef\"],[0.5,\"#f7f7f7\"],[0.6,\"#e6f5d0\"],[0.7,\"#b8e186\"],[0.8,\"#7fbc41\"],[0.9,\"#4d9221\"],[1,\"#276419\"]]},\"xaxis\":{\"gridcolor\":\"white\",\"linecolor\":\"white\",\"ticks\":\"\",\"title\":{\"standoff\":15},\"zerolinecolor\":\"white\",\"automargin\":true,\"zerolinewidth\":2},\"yaxis\":{\"gridcolor\":\"white\",\"linecolor\":\"white\",\"ticks\":\"\",\"title\":{\"standoff\":15},\"zerolinecolor\":\"white\",\"automargin\":true,\"zerolinewidth\":2},\"scene\":{\"xaxis\":{\"backgroundcolor\":\"#E5ECF6\",\"gridcolor\":\"white\",\"linecolor\":\"white\",\"showbackground\":true,\"ticks\":\"\",\"zerolinecolor\":\"white\",\"gridwidth\":2},\"yaxis\":{\"backgroundcolor\":\"#E5ECF6\",\"gridcolor\":\"white\",\"linecolor\":\"white\",\"showbackground\":true,\"ticks\":\"\",\"zerolinecolor\":\"white\",\"gridwidth\":2},\"zaxis\":{\"backgroundcolor\":\"#E5ECF6\",\"gridcolor\":\"white\",\"linecolor\":\"white\",\"showbackground\":true,\"ticks\":\"\",\"zerolinecolor\":\"white\",\"gridwidth\":2}},\"shapedefaults\":{\"line\":{\"color\":\"#2a3f5f\"}},\"annotationdefaults\":{\"arrowcolor\":\"#2a3f5f\",\"arrowhead\":0,\"arrowwidth\":1},\"geo\":{\"bgcolor\":\"white\",\"landcolor\":\"#E5ECF6\",\"subunitcolor\":\"white\",\"showland\":true,\"showlakes\":true,\"lakecolor\":\"white\"},\"title\":{\"x\":0.05},\"mapbox\":{\"style\":\"light\"}}},\"xaxis\":{\"anchor\":\"y\",\"domain\":[0.0,1.0],\"title\":{\"text\":\"Actual Values\"}},\"yaxis\":{\"anchor\":\"x\",\"domain\":[0.0,1.0],\"title\":{\"text\":\"Predicted Values\"}},\"legend\":{\"tracegroupgap\":0},\"title\":{\"text\":\"Ridge Regression: Actual vs. Predicted\"}},                        {\"responsive\": true}                    ).then(function(){\n",
              "                            \n",
              "var gd = document.getElementById('d5b03585-caaa-4e0c-a12c-d6862304699f');\n",
              "var x = new MutationObserver(function (mutations, observer) {{\n",
              "        var display = window.getComputedStyle(gd).display;\n",
              "        if (!display || display === 'none') {{\n",
              "            console.log([gd, 'removed!']);\n",
              "            Plotly.purge(gd);\n",
              "            observer.disconnect();\n",
              "        }}\n",
              "}});\n",
              "\n",
              "// Listen for the removal of the full notebook cells\n",
              "var notebookContainer = gd.closest('#notebook-container');\n",
              "if (notebookContainer) {{\n",
              "    x.observe(notebookContainer, {childList: true});\n",
              "}}\n",
              "\n",
              "// Listen for the clearing of the current output cell\n",
              "var outputEl = gd.closest('.output');\n",
              "if (outputEl) {{\n",
              "    x.observe(outputEl, {childList: true});\n",
              "}}\n",
              "\n",
              "                        })                };                            </script>        </div>\n",
              "</body>\n",
              "</html>"
            ]
          },
          "metadata": {}
        },
        {
          "output_type": "display_data",
          "data": {
            "text/html": [
              "<html>\n",
              "<head><meta charset=\"utf-8\" /></head>\n",
              "<body>\n",
              "    <div>            <script src=\"https://cdnjs.cloudflare.com/ajax/libs/mathjax/2.7.5/MathJax.js?config=TeX-AMS-MML_SVG\"></script><script type=\"text/javascript\">if (window.MathJax && window.MathJax.Hub && window.MathJax.Hub.Config) {window.MathJax.Hub.Config({SVG: {font: \"STIX-Web\"}});}</script>                <script type=\"text/javascript\">window.PlotlyConfig = {MathJaxConfig: 'local'};</script>\n",
              "        <script charset=\"utf-8\" src=\"https://cdn.plot.ly/plotly-2.24.1.min.js\"></script>                <div id=\"2776034b-8f90-48c6-ade9-60239682b862\" class=\"plotly-graph-div\" style=\"height:525px; width:100%;\"></div>            <script type=\"text/javascript\">                                    window.PLOTLYENV=window.PLOTLYENV || {};                                    if (document.getElementById(\"2776034b-8f90-48c6-ade9-60239682b862\")) {                    Plotly.newPlot(                        \"2776034b-8f90-48c6-ade9-60239682b862\",                        [{\"hovertemplate\":\"Actual Values=%{x}\\u003cbr\\u003ePredicted Values=%{y}\\u003cextra\\u003e\\u003c\\u002fextra\\u003e\",\"legendgroup\":\"\",\"marker\":{\"color\":\"#636efa\",\"symbol\":\"circle\"},\"mode\":\"markers\",\"name\":\"\",\"orientation\":\"v\",\"showlegend\":false,\"x\":[219.0,70.0,202.0,230.0,111.0,84.0,242.0,272.0,94.0,96.0,94.0,252.0,99.0,297.0,135.0,67.0,295.0,264.0,170.0,275.0,310.0,64.0,128.0,232.0,129.0,118.0,263.0,77.0,48.0,107.0,140.0,113.0,90.0,164.0,180.0,233.0,42.0,84.0,172.0,63.0,48.0,108.0,156.0,168.0,90.0,52.0,200.0,87.0,90.0,258.0,136.0,158.0,69.0,72.0,171.0,95.0,72.0,151.0,168.0,60.0,122.0,52.0,187.0,102.0,214.0,248.0,181.0,110.0,140.0,202.0,101.0,222.0,281.0,61.0,89.0,91.0,186.0,220.0,237.0,233.0,68.0,190.0,96.0,72.0,153.0,98.0,37.0,63.0,184.0],\"xaxis\":\"x\",\"y\":[157.913466261386,162.87141348001768,172.36382100894184,202.38783296393257,142.90033796254846,136.08272688315097,232.3867454282037,191.40153057619943,119.55491922811598,150.39542452407093,131.46121886150542,138.9862411501599,102.20534608931038,172.8113506125301,125.1198198451635,143.0759901825843,201.4139327311037,199.31482738199043,158.86046967574316,184.9554005815114,185.14317999363095,126.37155586612961,113.83276046533973,174.0586360310265,163.36090215317694,151.46353354555112,172.8399099998547,144.44613168046604,104.47617990032701,140.20996082807915,176.772746979633,118.61877921990619,160.92445026302894,158.66287041102333,170.50297893675963,197.19604519222284,140.5346635688502,140.96063447373103,146.04502176402724,110.92037491524542,107.12820138949624,132.36705429703494,145.1545071959796,142.18013227630234,158.46566562163358,119.02521974140643,115.89831870413693,127.07485560610488,95.38598760023538,160.3929951256144,162.04768942185268,109.34885357552258,133.8496656161753,127.34404525149233,157.3060829367923,163.63764475180685,123.8716726401843,184.07213785534262,141.49117022978947,122.37425716277197,173.58134323894265,177.47552965984735,163.0202164058681,128.31971218493325,126.00752940593128,177.5305755125148,157.72128887690508,151.38100832930138,135.99865482361437,150.98356705935757,162.85702980581792,173.64556898177318,167.32571742896312,145.23757492068756,111.4797745431005,141.3052653494753,189.20758869438964,180.3510466652502,161.30195150174927,159.2061853589101,134.87929461067063,144.6540550348989,113.89811594049337,113.51115239854279,124.54049479436898,122.0594419361652,110.22882204872698,98.56159889862818,159.97973645628386],\"yaxis\":\"y\",\"type\":\"scatter\"},{\"hovertemplate\":\"\\u003cb\\u003eOLS trendline\\u003c\\u002fb\\u003e\\u003cbr\\u003ePredicted_Lasso = 0.250575 * Actual + 111.882\\u003cbr\\u003eR\\u003csup\\u003e2\\u003c\\u002fsup\\u003e=0.441396\\u003cbr\\u003e\\u003cbr\\u003eActual Values=%{x}\\u003cbr\\u003ePredicted Values=%{y} \\u003cb\\u003e(trend)\\u003c\\u002fb\\u003e\\u003cextra\\u003e\\u003c\\u002fextra\\u003e\",\"legendgroup\":\"\",\"marker\":{\"color\":\"#636efa\",\"symbol\":\"circle\"},\"mode\":\"lines\",\"name\":\"\",\"showlegend\":false,\"x\":[37.0,42.0,48.0,48.0,52.0,52.0,60.0,61.0,63.0,63.0,64.0,67.0,68.0,69.0,70.0,72.0,72.0,72.0,77.0,84.0,84.0,87.0,89.0,90.0,90.0,90.0,91.0,94.0,94.0,95.0,96.0,96.0,98.0,99.0,101.0,102.0,107.0,108.0,110.0,111.0,113.0,118.0,122.0,128.0,129.0,135.0,136.0,140.0,140.0,151.0,153.0,156.0,158.0,164.0,168.0,168.0,170.0,171.0,172.0,180.0,181.0,184.0,186.0,187.0,190.0,200.0,202.0,202.0,214.0,219.0,220.0,222.0,230.0,232.0,233.0,233.0,237.0,242.0,248.0,252.0,258.0,263.0,264.0,272.0,275.0,281.0,295.0,297.0,310.0],\"xaxis\":\"x\",\"y\":[121.15339490669187,122.40627063377914,123.90972150628389,123.90972150628389,124.9120220879537,124.9120220879537,126.91662325129334,127.1671983967108,127.6683486875457,127.6683486875457,127.91892383296316,128.67064926921552,128.92122441463297,129.17179956005043,129.4223747054679,129.9235249963028,129.9235249963028,129.9235249963028,131.1764007233901,132.93042674131226,132.93042674131226,133.68215217756463,134.18330246839955,134.433877613817,134.433877613817,134.433877613817,134.68445275923446,135.43617819548683,135.43617819548683,135.68675334090426,135.93732848632175,135.93732848632175,136.43847877715663,136.6890539225741,137.190204213409,137.44077935882646,138.69365508591375,138.9442302313312,139.4453805221661,139.69595566758355,140.19710595841846,141.44998168550575,142.45228226717558,143.9557331396803,144.20630828509775,145.7097591576025,145.96033430301995,146.96263488468975,146.96263488468975,149.71896148428178,150.22011177511666,150.97183721136904,151.47298750220395,152.9764383747087,153.9787389563785,153.9787389563785,154.4798892472134,154.73046439263086,154.98103953804832,156.98564070138798,157.23621584680544,157.9879412830578,158.4890915738927,158.73966671931015,159.49139215556252,161.99714360973707,162.49829390057198,162.49829390057198,165.50519564558144,166.75807137266872,167.00864651808618,167.5097968089211,169.51439797226072,170.01554826309564,170.2661234085131,170.2661234085131,171.26842399018292,172.5212997172702,174.02475058977492,175.02705117144475,176.53050204394947,177.78337777103675,178.0339529164542,180.03855407979387,180.7902795160462,182.29373038855096,185.80178242439533,186.3029327152302,189.56040960565716],\"yaxis\":\"y\",\"type\":\"scatter\"}],                        {\"template\":{\"data\":{\"histogram2dcontour\":[{\"type\":\"histogram2dcontour\",\"colorbar\":{\"outlinewidth\":0,\"ticks\":\"\"},\"colorscale\":[[0.0,\"#0d0887\"],[0.1111111111111111,\"#46039f\"],[0.2222222222222222,\"#7201a8\"],[0.3333333333333333,\"#9c179e\"],[0.4444444444444444,\"#bd3786\"],[0.5555555555555556,\"#d8576b\"],[0.6666666666666666,\"#ed7953\"],[0.7777777777777778,\"#fb9f3a\"],[0.8888888888888888,\"#fdca26\"],[1.0,\"#f0f921\"]]}],\"choropleth\":[{\"type\":\"choropleth\",\"colorbar\":{\"outlinewidth\":0,\"ticks\":\"\"}}],\"histogram2d\":[{\"type\":\"histogram2d\",\"colorbar\":{\"outlinewidth\":0,\"ticks\":\"\"},\"colorscale\":[[0.0,\"#0d0887\"],[0.1111111111111111,\"#46039f\"],[0.2222222222222222,\"#7201a8\"],[0.3333333333333333,\"#9c179e\"],[0.4444444444444444,\"#bd3786\"],[0.5555555555555556,\"#d8576b\"],[0.6666666666666666,\"#ed7953\"],[0.7777777777777778,\"#fb9f3a\"],[0.8888888888888888,\"#fdca26\"],[1.0,\"#f0f921\"]]}],\"heatmap\":[{\"type\":\"heatmap\",\"colorbar\":{\"outlinewidth\":0,\"ticks\":\"\"},\"colorscale\":[[0.0,\"#0d0887\"],[0.1111111111111111,\"#46039f\"],[0.2222222222222222,\"#7201a8\"],[0.3333333333333333,\"#9c179e\"],[0.4444444444444444,\"#bd3786\"],[0.5555555555555556,\"#d8576b\"],[0.6666666666666666,\"#ed7953\"],[0.7777777777777778,\"#fb9f3a\"],[0.8888888888888888,\"#fdca26\"],[1.0,\"#f0f921\"]]}],\"heatmapgl\":[{\"type\":\"heatmapgl\",\"colorbar\":{\"outlinewidth\":0,\"ticks\":\"\"},\"colorscale\":[[0.0,\"#0d0887\"],[0.1111111111111111,\"#46039f\"],[0.2222222222222222,\"#7201a8\"],[0.3333333333333333,\"#9c179e\"],[0.4444444444444444,\"#bd3786\"],[0.5555555555555556,\"#d8576b\"],[0.6666666666666666,\"#ed7953\"],[0.7777777777777778,\"#fb9f3a\"],[0.8888888888888888,\"#fdca26\"],[1.0,\"#f0f921\"]]}],\"contourcarpet\":[{\"type\":\"contourcarpet\",\"colorbar\":{\"outlinewidth\":0,\"ticks\":\"\"}}],\"contour\":[{\"type\":\"contour\",\"colorbar\":{\"outlinewidth\":0,\"ticks\":\"\"},\"colorscale\":[[0.0,\"#0d0887\"],[0.1111111111111111,\"#46039f\"],[0.2222222222222222,\"#7201a8\"],[0.3333333333333333,\"#9c179e\"],[0.4444444444444444,\"#bd3786\"],[0.5555555555555556,\"#d8576b\"],[0.6666666666666666,\"#ed7953\"],[0.7777777777777778,\"#fb9f3a\"],[0.8888888888888888,\"#fdca26\"],[1.0,\"#f0f921\"]]}],\"surface\":[{\"type\":\"surface\",\"colorbar\":{\"outlinewidth\":0,\"ticks\":\"\"},\"colorscale\":[[0.0,\"#0d0887\"],[0.1111111111111111,\"#46039f\"],[0.2222222222222222,\"#7201a8\"],[0.3333333333333333,\"#9c179e\"],[0.4444444444444444,\"#bd3786\"],[0.5555555555555556,\"#d8576b\"],[0.6666666666666666,\"#ed7953\"],[0.7777777777777778,\"#fb9f3a\"],[0.8888888888888888,\"#fdca26\"],[1.0,\"#f0f921\"]]}],\"mesh3d\":[{\"type\":\"mesh3d\",\"colorbar\":{\"outlinewidth\":0,\"ticks\":\"\"}}],\"scatter\":[{\"fillpattern\":{\"fillmode\":\"overlay\",\"size\":10,\"solidity\":0.2},\"type\":\"scatter\"}],\"parcoords\":[{\"type\":\"parcoords\",\"line\":{\"colorbar\":{\"outlinewidth\":0,\"ticks\":\"\"}}}],\"scatterpolargl\":[{\"type\":\"scatterpolargl\",\"marker\":{\"colorbar\":{\"outlinewidth\":0,\"ticks\":\"\"}}}],\"bar\":[{\"error_x\":{\"color\":\"#2a3f5f\"},\"error_y\":{\"color\":\"#2a3f5f\"},\"marker\":{\"line\":{\"color\":\"#E5ECF6\",\"width\":0.5},\"pattern\":{\"fillmode\":\"overlay\",\"size\":10,\"solidity\":0.2}},\"type\":\"bar\"}],\"scattergeo\":[{\"type\":\"scattergeo\",\"marker\":{\"colorbar\":{\"outlinewidth\":0,\"ticks\":\"\"}}}],\"scatterpolar\":[{\"type\":\"scatterpolar\",\"marker\":{\"colorbar\":{\"outlinewidth\":0,\"ticks\":\"\"}}}],\"histogram\":[{\"marker\":{\"pattern\":{\"fillmode\":\"overlay\",\"size\":10,\"solidity\":0.2}},\"type\":\"histogram\"}],\"scattergl\":[{\"type\":\"scattergl\",\"marker\":{\"colorbar\":{\"outlinewidth\":0,\"ticks\":\"\"}}}],\"scatter3d\":[{\"type\":\"scatter3d\",\"line\":{\"colorbar\":{\"outlinewidth\":0,\"ticks\":\"\"}},\"marker\":{\"colorbar\":{\"outlinewidth\":0,\"ticks\":\"\"}}}],\"scattermapbox\":[{\"type\":\"scattermapbox\",\"marker\":{\"colorbar\":{\"outlinewidth\":0,\"ticks\":\"\"}}}],\"scatterternary\":[{\"type\":\"scatterternary\",\"marker\":{\"colorbar\":{\"outlinewidth\":0,\"ticks\":\"\"}}}],\"scattercarpet\":[{\"type\":\"scattercarpet\",\"marker\":{\"colorbar\":{\"outlinewidth\":0,\"ticks\":\"\"}}}],\"carpet\":[{\"aaxis\":{\"endlinecolor\":\"#2a3f5f\",\"gridcolor\":\"white\",\"linecolor\":\"white\",\"minorgridcolor\":\"white\",\"startlinecolor\":\"#2a3f5f\"},\"baxis\":{\"endlinecolor\":\"#2a3f5f\",\"gridcolor\":\"white\",\"linecolor\":\"white\",\"minorgridcolor\":\"white\",\"startlinecolor\":\"#2a3f5f\"},\"type\":\"carpet\"}],\"table\":[{\"cells\":{\"fill\":{\"color\":\"#EBF0F8\"},\"line\":{\"color\":\"white\"}},\"header\":{\"fill\":{\"color\":\"#C8D4E3\"},\"line\":{\"color\":\"white\"}},\"type\":\"table\"}],\"barpolar\":[{\"marker\":{\"line\":{\"color\":\"#E5ECF6\",\"width\":0.5},\"pattern\":{\"fillmode\":\"overlay\",\"size\":10,\"solidity\":0.2}},\"type\":\"barpolar\"}],\"pie\":[{\"automargin\":true,\"type\":\"pie\"}]},\"layout\":{\"autotypenumbers\":\"strict\",\"colorway\":[\"#636efa\",\"#EF553B\",\"#00cc96\",\"#ab63fa\",\"#FFA15A\",\"#19d3f3\",\"#FF6692\",\"#B6E880\",\"#FF97FF\",\"#FECB52\"],\"font\":{\"color\":\"#2a3f5f\"},\"hovermode\":\"closest\",\"hoverlabel\":{\"align\":\"left\"},\"paper_bgcolor\":\"white\",\"plot_bgcolor\":\"#E5ECF6\",\"polar\":{\"bgcolor\":\"#E5ECF6\",\"angularaxis\":{\"gridcolor\":\"white\",\"linecolor\":\"white\",\"ticks\":\"\"},\"radialaxis\":{\"gridcolor\":\"white\",\"linecolor\":\"white\",\"ticks\":\"\"}},\"ternary\":{\"bgcolor\":\"#E5ECF6\",\"aaxis\":{\"gridcolor\":\"white\",\"linecolor\":\"white\",\"ticks\":\"\"},\"baxis\":{\"gridcolor\":\"white\",\"linecolor\":\"white\",\"ticks\":\"\"},\"caxis\":{\"gridcolor\":\"white\",\"linecolor\":\"white\",\"ticks\":\"\"}},\"coloraxis\":{\"colorbar\":{\"outlinewidth\":0,\"ticks\":\"\"}},\"colorscale\":{\"sequential\":[[0.0,\"#0d0887\"],[0.1111111111111111,\"#46039f\"],[0.2222222222222222,\"#7201a8\"],[0.3333333333333333,\"#9c179e\"],[0.4444444444444444,\"#bd3786\"],[0.5555555555555556,\"#d8576b\"],[0.6666666666666666,\"#ed7953\"],[0.7777777777777778,\"#fb9f3a\"],[0.8888888888888888,\"#fdca26\"],[1.0,\"#f0f921\"]],\"sequentialminus\":[[0.0,\"#0d0887\"],[0.1111111111111111,\"#46039f\"],[0.2222222222222222,\"#7201a8\"],[0.3333333333333333,\"#9c179e\"],[0.4444444444444444,\"#bd3786\"],[0.5555555555555556,\"#d8576b\"],[0.6666666666666666,\"#ed7953\"],[0.7777777777777778,\"#fb9f3a\"],[0.8888888888888888,\"#fdca26\"],[1.0,\"#f0f921\"]],\"diverging\":[[0,\"#8e0152\"],[0.1,\"#c51b7d\"],[0.2,\"#de77ae\"],[0.3,\"#f1b6da\"],[0.4,\"#fde0ef\"],[0.5,\"#f7f7f7\"],[0.6,\"#e6f5d0\"],[0.7,\"#b8e186\"],[0.8,\"#7fbc41\"],[0.9,\"#4d9221\"],[1,\"#276419\"]]},\"xaxis\":{\"gridcolor\":\"white\",\"linecolor\":\"white\",\"ticks\":\"\",\"title\":{\"standoff\":15},\"zerolinecolor\":\"white\",\"automargin\":true,\"zerolinewidth\":2},\"yaxis\":{\"gridcolor\":\"white\",\"linecolor\":\"white\",\"ticks\":\"\",\"title\":{\"standoff\":15},\"zerolinecolor\":\"white\",\"automargin\":true,\"zerolinewidth\":2},\"scene\":{\"xaxis\":{\"backgroundcolor\":\"#E5ECF6\",\"gridcolor\":\"white\",\"linecolor\":\"white\",\"showbackground\":true,\"ticks\":\"\",\"zerolinecolor\":\"white\",\"gridwidth\":2},\"yaxis\":{\"backgroundcolor\":\"#E5ECF6\",\"gridcolor\":\"white\",\"linecolor\":\"white\",\"showbackground\":true,\"ticks\":\"\",\"zerolinecolor\":\"white\",\"gridwidth\":2},\"zaxis\":{\"backgroundcolor\":\"#E5ECF6\",\"gridcolor\":\"white\",\"linecolor\":\"white\",\"showbackground\":true,\"ticks\":\"\",\"zerolinecolor\":\"white\",\"gridwidth\":2}},\"shapedefaults\":{\"line\":{\"color\":\"#2a3f5f\"}},\"annotationdefaults\":{\"arrowcolor\":\"#2a3f5f\",\"arrowhead\":0,\"arrowwidth\":1},\"geo\":{\"bgcolor\":\"white\",\"landcolor\":\"#E5ECF6\",\"subunitcolor\":\"white\",\"showland\":true,\"showlakes\":true,\"lakecolor\":\"white\"},\"title\":{\"x\":0.05},\"mapbox\":{\"style\":\"light\"}}},\"xaxis\":{\"anchor\":\"y\",\"domain\":[0.0,1.0],\"title\":{\"text\":\"Actual Values\"}},\"yaxis\":{\"anchor\":\"x\",\"domain\":[0.0,1.0],\"title\":{\"text\":\"Predicted Values\"}},\"legend\":{\"tracegroupgap\":0},\"title\":{\"text\":\"Lasso Regression: Actual vs. Predicted\"}},                        {\"responsive\": true}                    ).then(function(){\n",
              "                            \n",
              "var gd = document.getElementById('2776034b-8f90-48c6-ade9-60239682b862');\n",
              "var x = new MutationObserver(function (mutations, observer) {{\n",
              "        var display = window.getComputedStyle(gd).display;\n",
              "        if (!display || display === 'none') {{\n",
              "            console.log([gd, 'removed!']);\n",
              "            Plotly.purge(gd);\n",
              "            observer.disconnect();\n",
              "        }}\n",
              "}});\n",
              "\n",
              "// Listen for the removal of the full notebook cells\n",
              "var notebookContainer = gd.closest('#notebook-container');\n",
              "if (notebookContainer) {{\n",
              "    x.observe(notebookContainer, {childList: true});\n",
              "}}\n",
              "\n",
              "// Listen for the clearing of the current output cell\n",
              "var outputEl = gd.closest('.output');\n",
              "if (outputEl) {{\n",
              "    x.observe(outputEl, {childList: true});\n",
              "}}\n",
              "\n",
              "                        })                };                            </script>        </div>\n",
              "</body>\n",
              "</html>"
            ]
          },
          "metadata": {}
        }
      ]
    }
  ]
}